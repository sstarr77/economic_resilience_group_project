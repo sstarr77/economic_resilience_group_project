{
 "cells": [
  {
   "cell_type": "markdown",
   "id": "3e031824",
   "metadata": {},
   "source": [
    "# 00 - Data Collection Notebook\n",
    "The intent of this notebook is to acquire economic data, including but not limited to, industry and employment information at the state level for all 50 states, and Washington D.C. Once compiled into a Pandas DataFrame, it is then exported into the `raw_data` folder. The notebook then transitions to transforming the data into the necessary format needed for modeling in our next step.\n",
    "\n",
    "*Some of the scraping methods used in this notebook were referenced from the following lecture: https://git.generalassemb.ly/DSIR-0124/lesson-webscraping/blob/master/intro-to-web-scraping-spiders-with-scrapy.ipynb*"
   ]
  },
  {
   "cell_type": "markdown",
   "id": "81d6007b-25e7-48d2-aabe-21340a74f27a",
   "metadata": {},
   "source": [
    "#### Imports"
   ]
  },
  {
   "cell_type": "code",
   "execution_count": 1,
   "id": "0c3098d4",
   "metadata": {},
   "outputs": [],
   "source": [
    "from bs4 import BeautifulSoup\n",
    "import requests\n",
    "import pandas as pd\n",
    "import re\n",
    "import time\n",
    "import os"
   ]
  },
  {
   "cell_type": "markdown",
   "id": "84cf0253-8070-45e2-bdd7-6d68496c2ed8",
   "metadata": {},
   "source": [
    "### Individual State Scraper \n",
    "In this scraper, we extract one link per state rom the U.S. Bureau of Labor Statistics website found in the `url` variable below. As seen within this scraper, we chose to remove the U.S. territories of Guam, Puerto Rico, and the Virgin Islands for our analysis. \n",
    "\n",
    "Using BeautifulSoup, this scraper returns a Pandas DataFrame of the State name and associated URL."
   ]
  },
  {
   "cell_type": "code",
   "execution_count": 6,
   "id": "267610a8",
   "metadata": {},
   "outputs": [
    {
     "data": {
      "text/html": [
       "<div>\n",
       "<style scoped>\n",
       "    .dataframe tbody tr th:only-of-type {\n",
       "        vertical-align: middle;\n",
       "    }\n",
       "\n",
       "    .dataframe tbody tr th {\n",
       "        vertical-align: top;\n",
       "    }\n",
       "\n",
       "    .dataframe thead th {\n",
       "        text-align: right;\n",
       "    }\n",
       "</style>\n",
       "<table border=\"1\" class=\"dataframe\">\n",
       "  <thead>\n",
       "    <tr style=\"text-align: right;\">\n",
       "      <th></th>\n",
       "      <th>link</th>\n",
       "    </tr>\n",
       "    <tr>\n",
       "      <th>title</th>\n",
       "      <th></th>\n",
       "    </tr>\n",
       "  </thead>\n",
       "  <tbody>\n",
       "    <tr>\n",
       "      <th>Alabama</th>\n",
       "      <td>https://www.bls.gov/regions/southeast/alabama....</td>\n",
       "    </tr>\n",
       "    <tr>\n",
       "      <th>Alaska</th>\n",
       "      <td>https://www.bls.gov/regions/west/alaska.htm#eag</td>\n",
       "    </tr>\n",
       "    <tr>\n",
       "      <th>Arizona</th>\n",
       "      <td>https://www.bls.gov/regions/west/arizona.htm#eag</td>\n",
       "    </tr>\n",
       "    <tr>\n",
       "      <th>Arkansas</th>\n",
       "      <td>https://www.bls.gov/regions/southwest/arkansas...</td>\n",
       "    </tr>\n",
       "    <tr>\n",
       "      <th>California</th>\n",
       "      <td>https://www.bls.gov/regions/west/california.ht...</td>\n",
       "    </tr>\n",
       "    <tr>\n",
       "      <th>Colorado</th>\n",
       "      <td>https://www.bls.gov/regions/mountain-plains/co...</td>\n",
       "    </tr>\n",
       "    <tr>\n",
       "      <th>Connecticut</th>\n",
       "      <td>https://www.bls.gov/regions/new-england/connec...</td>\n",
       "    </tr>\n",
       "    <tr>\n",
       "      <th>Delaware</th>\n",
       "      <td>https://www.bls.gov/regions/mid-atlantic/delaw...</td>\n",
       "    </tr>\n",
       "    <tr>\n",
       "      <th>District of Columbia</th>\n",
       "      <td>https://www.bls.gov/regions/mid-atlantic/distr...</td>\n",
       "    </tr>\n",
       "    <tr>\n",
       "      <th>Florida</th>\n",
       "      <td>https://www.bls.gov/regions/southeast/florida....</td>\n",
       "    </tr>\n",
       "    <tr>\n",
       "      <th>Georgia</th>\n",
       "      <td>https://www.bls.gov/regions/southeast/georgia....</td>\n",
       "    </tr>\n",
       "    <tr>\n",
       "      <th>Hawaii</th>\n",
       "      <td>https://www.bls.gov/regions/west/hawaii.htm#eag</td>\n",
       "    </tr>\n",
       "    <tr>\n",
       "      <th>Idaho</th>\n",
       "      <td>https://www.bls.gov/regions/west/idaho.htm#eag</td>\n",
       "    </tr>\n",
       "    <tr>\n",
       "      <th>Illinois</th>\n",
       "      <td>https://www.bls.gov/regions/midwest/illinois.h...</td>\n",
       "    </tr>\n",
       "    <tr>\n",
       "      <th>Indiana</th>\n",
       "      <td>https://www.bls.gov/regions/midwest/indiana.ht...</td>\n",
       "    </tr>\n",
       "    <tr>\n",
       "      <th>Iowa</th>\n",
       "      <td>https://www.bls.gov/regions/midwest/iowa.htm#eag</td>\n",
       "    </tr>\n",
       "    <tr>\n",
       "      <th>Kansas</th>\n",
       "      <td>https://www.bls.gov/regions/mountain-plains/ka...</td>\n",
       "    </tr>\n",
       "    <tr>\n",
       "      <th>Kentucky</th>\n",
       "      <td>https://www.bls.gov/regions/southeast/kentucky...</td>\n",
       "    </tr>\n",
       "    <tr>\n",
       "      <th>Louisiana</th>\n",
       "      <td>https://www.bls.gov/regions/southwest/louisian...</td>\n",
       "    </tr>\n",
       "    <tr>\n",
       "      <th>Maine</th>\n",
       "      <td>https://www.bls.gov/regions/new-england/maine....</td>\n",
       "    </tr>\n",
       "    <tr>\n",
       "      <th>Maryland</th>\n",
       "      <td>https://www.bls.gov/regions/mid-atlantic/maryl...</td>\n",
       "    </tr>\n",
       "    <tr>\n",
       "      <th>Massachusetts</th>\n",
       "      <td>https://www.bls.gov/regions/new-england/massac...</td>\n",
       "    </tr>\n",
       "    <tr>\n",
       "      <th>Michigan</th>\n",
       "      <td>https://www.bls.gov/regions/midwest/michigan.h...</td>\n",
       "    </tr>\n",
       "    <tr>\n",
       "      <th>Minnesota</th>\n",
       "      <td>https://www.bls.gov/regions/midwest/minnesota....</td>\n",
       "    </tr>\n",
       "    <tr>\n",
       "      <th>Mississippi</th>\n",
       "      <td>https://www.bls.gov/regions/southeast/mississi...</td>\n",
       "    </tr>\n",
       "    <tr>\n",
       "      <th>Missouri</th>\n",
       "      <td>https://www.bls.gov/regions/mountain-plains/mi...</td>\n",
       "    </tr>\n",
       "    <tr>\n",
       "      <th>Montana</th>\n",
       "      <td>https://www.bls.gov/regions/mountain-plains/mo...</td>\n",
       "    </tr>\n",
       "    <tr>\n",
       "      <th>Nebraska</th>\n",
       "      <td>https://www.bls.gov/regions/midwest/nebraska.h...</td>\n",
       "    </tr>\n",
       "    <tr>\n",
       "      <th>Nevada</th>\n",
       "      <td>https://www.bls.gov/regions/west/nevada.htm#eag</td>\n",
       "    </tr>\n",
       "    <tr>\n",
       "      <th>New Hampshire</th>\n",
       "      <td>https://www.bls.gov/regions/new-england/new_ha...</td>\n",
       "    </tr>\n",
       "    <tr>\n",
       "      <th>New Jersey</th>\n",
       "      <td>https://www.bls.gov/regions/new-york-new-jerse...</td>\n",
       "    </tr>\n",
       "    <tr>\n",
       "      <th>New Mexico</th>\n",
       "      <td>https://www.bls.gov/regions/southwest/new_mexi...</td>\n",
       "    </tr>\n",
       "    <tr>\n",
       "      <th>New York</th>\n",
       "      <td>https://www.bls.gov/regions/new-york-new-jerse...</td>\n",
       "    </tr>\n",
       "    <tr>\n",
       "      <th>North Carolina</th>\n",
       "      <td>https://www.bls.gov/regions/southeast/north_ca...</td>\n",
       "    </tr>\n",
       "    <tr>\n",
       "      <th>North Dakota</th>\n",
       "      <td>https://www.bls.gov/regions/midwest/north_dako...</td>\n",
       "    </tr>\n",
       "    <tr>\n",
       "      <th>Ohio</th>\n",
       "      <td>https://www.bls.gov/regions/midwest/ohio.htm#eag</td>\n",
       "    </tr>\n",
       "    <tr>\n",
       "      <th>Oklahoma</th>\n",
       "      <td>https://www.bls.gov/regions/southwest/oklahoma...</td>\n",
       "    </tr>\n",
       "    <tr>\n",
       "      <th>Oregon</th>\n",
       "      <td>https://www.bls.gov/regions/west/oregon.htm#eag</td>\n",
       "    </tr>\n",
       "    <tr>\n",
       "      <th>Pennsylvania</th>\n",
       "      <td>https://www.bls.gov/regions/mid-atlantic/penns...</td>\n",
       "    </tr>\n",
       "    <tr>\n",
       "      <th>Rhode Island</th>\n",
       "      <td>https://www.bls.gov/regions/new-england/rhode_...</td>\n",
       "    </tr>\n",
       "    <tr>\n",
       "      <th>South Carolina</th>\n",
       "      <td>https://www.bls.gov/regions/southeast/south_ca...</td>\n",
       "    </tr>\n",
       "    <tr>\n",
       "      <th>South Dakota</th>\n",
       "      <td>https://www.bls.gov/regions/midwest/south_dako...</td>\n",
       "    </tr>\n",
       "    <tr>\n",
       "      <th>Tennessee</th>\n",
       "      <td>https://www.bls.gov/regions/southeast/tennesse...</td>\n",
       "    </tr>\n",
       "    <tr>\n",
       "      <th>Texas</th>\n",
       "      <td>https://www.bls.gov/regions/southwest/texas.ht...</td>\n",
       "    </tr>\n",
       "    <tr>\n",
       "      <th>Utah</th>\n",
       "      <td>https://www.bls.gov/regions/mountain-plains/ut...</td>\n",
       "    </tr>\n",
       "    <tr>\n",
       "      <th>Vermont</th>\n",
       "      <td>https://www.bls.gov/regions/new-england/vermon...</td>\n",
       "    </tr>\n",
       "    <tr>\n",
       "      <th>Virginia</th>\n",
       "      <td>https://www.bls.gov/regions/mid-atlantic/virgi...</td>\n",
       "    </tr>\n",
       "    <tr>\n",
       "      <th>Washington</th>\n",
       "      <td>https://www.bls.gov/regions/west/washington.ht...</td>\n",
       "    </tr>\n",
       "    <tr>\n",
       "      <th>West Virginia</th>\n",
       "      <td>https://www.bls.gov/regions/mid-atlantic/west_...</td>\n",
       "    </tr>\n",
       "    <tr>\n",
       "      <th>Wisconsin</th>\n",
       "      <td>https://www.bls.gov/regions/midwest/wisconsin....</td>\n",
       "    </tr>\n",
       "    <tr>\n",
       "      <th>Wyoming</th>\n",
       "      <td>https://www.bls.gov/regions/mountain-plains/wy...</td>\n",
       "    </tr>\n",
       "  </tbody>\n",
       "</table>\n",
       "</div>"
      ],
      "text/plain": [
       "                                                                   link\n",
       "title                                                                  \n",
       "Alabama               https://www.bls.gov/regions/southeast/alabama....\n",
       "Alaska                  https://www.bls.gov/regions/west/alaska.htm#eag\n",
       "Arizona                https://www.bls.gov/regions/west/arizona.htm#eag\n",
       "Arkansas              https://www.bls.gov/regions/southwest/arkansas...\n",
       "California            https://www.bls.gov/regions/west/california.ht...\n",
       "Colorado              https://www.bls.gov/regions/mountain-plains/co...\n",
       "Connecticut           https://www.bls.gov/regions/new-england/connec...\n",
       "Delaware              https://www.bls.gov/regions/mid-atlantic/delaw...\n",
       "District of Columbia  https://www.bls.gov/regions/mid-atlantic/distr...\n",
       "Florida               https://www.bls.gov/regions/southeast/florida....\n",
       "Georgia               https://www.bls.gov/regions/southeast/georgia....\n",
       "Hawaii                  https://www.bls.gov/regions/west/hawaii.htm#eag\n",
       "Idaho                    https://www.bls.gov/regions/west/idaho.htm#eag\n",
       "Illinois              https://www.bls.gov/regions/midwest/illinois.h...\n",
       "Indiana               https://www.bls.gov/regions/midwest/indiana.ht...\n",
       "Iowa                   https://www.bls.gov/regions/midwest/iowa.htm#eag\n",
       "Kansas                https://www.bls.gov/regions/mountain-plains/ka...\n",
       "Kentucky              https://www.bls.gov/regions/southeast/kentucky...\n",
       "Louisiana             https://www.bls.gov/regions/southwest/louisian...\n",
       "Maine                 https://www.bls.gov/regions/new-england/maine....\n",
       "Maryland              https://www.bls.gov/regions/mid-atlantic/maryl...\n",
       "Massachusetts         https://www.bls.gov/regions/new-england/massac...\n",
       "Michigan              https://www.bls.gov/regions/midwest/michigan.h...\n",
       "Minnesota             https://www.bls.gov/regions/midwest/minnesota....\n",
       "Mississippi           https://www.bls.gov/regions/southeast/mississi...\n",
       "Missouri              https://www.bls.gov/regions/mountain-plains/mi...\n",
       "Montana               https://www.bls.gov/regions/mountain-plains/mo...\n",
       "Nebraska              https://www.bls.gov/regions/midwest/nebraska.h...\n",
       "Nevada                  https://www.bls.gov/regions/west/nevada.htm#eag\n",
       "New Hampshire         https://www.bls.gov/regions/new-england/new_ha...\n",
       "New Jersey            https://www.bls.gov/regions/new-york-new-jerse...\n",
       "New Mexico            https://www.bls.gov/regions/southwest/new_mexi...\n",
       "New York              https://www.bls.gov/regions/new-york-new-jerse...\n",
       "North Carolina        https://www.bls.gov/regions/southeast/north_ca...\n",
       "North Dakota          https://www.bls.gov/regions/midwest/north_dako...\n",
       "Ohio                   https://www.bls.gov/regions/midwest/ohio.htm#eag\n",
       "Oklahoma              https://www.bls.gov/regions/southwest/oklahoma...\n",
       "Oregon                  https://www.bls.gov/regions/west/oregon.htm#eag\n",
       "Pennsylvania          https://www.bls.gov/regions/mid-atlantic/penns...\n",
       "Rhode Island          https://www.bls.gov/regions/new-england/rhode_...\n",
       "South Carolina        https://www.bls.gov/regions/southeast/south_ca...\n",
       "South Dakota          https://www.bls.gov/regions/midwest/south_dako...\n",
       "Tennessee             https://www.bls.gov/regions/southeast/tennesse...\n",
       "Texas                 https://www.bls.gov/regions/southwest/texas.ht...\n",
       "Utah                  https://www.bls.gov/regions/mountain-plains/ut...\n",
       "Vermont               https://www.bls.gov/regions/new-england/vermon...\n",
       "Virginia              https://www.bls.gov/regions/mid-atlantic/virgi...\n",
       "Washington            https://www.bls.gov/regions/west/washington.ht...\n",
       "West Virginia         https://www.bls.gov/regions/mid-atlantic/west_...\n",
       "Wisconsin             https://www.bls.gov/regions/midwest/wisconsin....\n",
       "Wyoming               https://www.bls.gov/regions/mountain-plains/wy..."
      ]
     },
     "execution_count": 6,
     "metadata": {},
     "output_type": "execute_result"
    }
   ],
   "source": [
    "url = 'https://www.bls.gov/eag'\n",
    "\n",
    "response = requests.get(url)\n",
    "\n",
    "html = response.text\n",
    "\n",
    "soup = BeautifulSoup(html, 'lxml')\n",
    "\n",
    "all_h4 = soup.find_all('h4')\n",
    "all_h4\n",
    "\n",
    "state_link_list = []\n",
    "\n",
    "for element in all_h4:\n",
    "    result = {}\n",
    "    \n",
    "    a_href = element.find('a')\n",
    "    if a_href:\n",
    "        result['title'] = a_href.text\n",
    "        result['link'] = 'https://www.bls.gov/' + a_href['href'].strip().lstrip('/')\n",
    "    \n",
    "    state_link_list.append(result)\n",
    "    \n",
    "state_link_list\n",
    "\n",
    "state_links = pd.DataFrame(state_link_list)\n",
    "state_links = state_links.set_index('title')\n",
    "state_links = state_links.drop(['Guam', 'Puerto Rico', 'Virgin Islands'])\n",
    "state_links"
   ]
  },
  {
   "cell_type": "markdown",
   "id": "3ca664a9-2584-4dc8-bf65-5febb8882a4c",
   "metadata": {},
   "source": [
    "### All State Links Scraper \n",
    "In this scraper, we extract the necessary child links from the aforementioned DataFrame, and save them into a Dictionary."
   ]
  },
  {
   "cell_type": "code",
   "execution_count": 5,
   "id": "bb8f1fc8",
   "metadata": {},
   "outputs": [
    {
     "name": "stdout",
     "output_type": "stream",
     "text": [
      "Alabama links added to dictionary\n",
      "Alaska links added to dictionary\n",
      "Arizona links added to dictionary\n",
      "Arkansas links added to dictionary\n",
      "California links added to dictionary\n",
      "Colorado links added to dictionary\n",
      "Connecticut links added to dictionary\n",
      "Delaware links added to dictionary\n",
      "District of Columbia links added to dictionary\n",
      "Florida links added to dictionary\n",
      "Georgia links added to dictionary\n",
      "Hawaii links added to dictionary\n",
      "Idaho links added to dictionary\n",
      "Illinois links added to dictionary\n",
      "Indiana links added to dictionary\n",
      "Iowa links added to dictionary\n",
      "Kansas links added to dictionary\n",
      "Kentucky links added to dictionary\n",
      "Louisiana links added to dictionary\n",
      "Maine links added to dictionary\n",
      "Maryland links added to dictionary\n",
      "Massachusetts links added to dictionary\n",
      "Michigan links added to dictionary\n",
      "Minnesota links added to dictionary\n",
      "Mississippi links added to dictionary\n",
      "Missouri links added to dictionary\n",
      "Montana links added to dictionary\n",
      "Nebraska links added to dictionary\n",
      "Nevada links added to dictionary\n",
      "New Hampshire links added to dictionary\n",
      "New Jersey links added to dictionary\n",
      "New Mexico links added to dictionary\n",
      "New York links added to dictionary\n",
      "North Carolina links added to dictionary\n",
      "North Dakota links added to dictionary\n",
      "Ohio links added to dictionary\n",
      "Oklahoma links added to dictionary\n",
      "Oregon links added to dictionary\n",
      "Pennsylvania links added to dictionary\n",
      "Rhode Island links added to dictionary\n",
      "South Carolina links added to dictionary\n",
      "South Dakota links added to dictionary\n",
      "Tennessee links added to dictionary\n",
      "Texas links added to dictionary\n",
      "Utah links added to dictionary\n",
      "Vermont links added to dictionary\n",
      "Virginia links added to dictionary\n",
      "Washington links added to dictionary\n",
      "West Virginia links added to dictionary\n",
      "Wisconsin links added to dictionary\n",
      "Wyoming links added to dictionary\n"
     ]
    }
   ],
   "source": [
    "state_backdata = {}\n",
    "\n",
    "for i in range(len(state_links)):\n",
    "    state_url = state_links.iloc[i][0]\n",
    "#     state_url\n",
    "    state_name = state_links.index[i]\n",
    "    \n",
    "    loop_response = requests.get(state_url)\n",
    "\n",
    "    loop_html = loop_response.text\n",
    "\n",
    "    loop_soup = BeautifulSoup(loop_html, 'lxml')\n",
    "\n",
    "    loop_table = loop_soup.find('table', {'class': 'regular'})\n",
    "\n",
    "    loop_backdata_list = []\n",
    "\n",
    "    loop_backdata_links = []\n",
    "    \n",
    "    for row in loop_table.find_all('tr')[1:]:\n",
    "\n",
    "        loop_backdata_list.append(row)\n",
    "\n",
    "    for item in loop_backdata_list:\n",
    "        item = str(item)\n",
    "        if 'https' in item:\n",
    "            links= re.findall(\"(https:\\S+)\", item)\n",
    "            loop_backdata_links.append(links[0])\n",
    "\n",
    "    loop_final_list = [x for i, x in enumerate(loop_backdata_links) if i in [0,4,6,8,10,12,14,16,18,20,22,24,26,28]]\n",
    "    state_backdata[state_name] = loop_final_list\n",
    "    print(f'{state_name} links added to dictionary')\n",
    "    time.sleep(1)"
   ]
  },
  {
   "cell_type": "code",
   "execution_count": 13,
   "id": "5b173a56",
   "metadata": {},
   "outputs": [],
   "source": [
    "def remove_special_char(column):\n",
    "    return column.map(lambda s: re.findall('^\\d+\\.?\\d*', str(s))[0])"
   ]
  },
  {
   "cell_type": "code",
   "execution_count": null,
   "id": "93bc05b2",
   "metadata": {},
   "outputs": [],
   "source": [
    "df_target"
   ]
  },
  {
   "cell_type": "code",
   "execution_count": null,
   "id": "efc5278a",
   "metadata": {},
   "outputs": [],
   "source": [
    "df_employment"
   ]
  },
  {
   "cell_type": "code",
   "execution_count": null,
   "id": "6a3172fa",
   "metadata": {},
   "outputs": [],
   "source": [
    "state_employment"
   ]
  },
  {
   "cell_type": "code",
   "execution_count": 16,
   "id": "a46aa14e",
   "metadata": {},
   "outputs": [],
   "source": [
    "subsegment = {'00':'Total Nonfarm', '05':'Total Private', '06':'Goods Producing',\n",
    "              '07':'Service-Providing', '08':'Private Service Providing', '10':'Mining and Logging',\n",
    "              '15':'Mining, Logging and Construction', '20':'Construction', '30':'Manufacturing', \n",
    "              '31':'Durable Goods', '32':'Non-Durable Goods', '40':'Trade, Transportation, and Utils', \n",
    "              '41':'Wholesale Trade', '42':'Retail Trade', '43':'Transportation and Utils', \n",
    "              '50':'Information', '55':'Financial Activities', '60':'Professional & Business Services', \n",
    "              '65':'Education & Health Services', '70':'Leisure & Hospitality', '80':'Other Services', \n",
    "              '90':'Government'}"
   ]
  },
  {
   "cell_type": "code",
   "execution_count": 19,
   "id": "51788555-48f6-4d94-bc2a-ea6694ead604",
   "metadata": {},
   "outputs": [],
   "source": [
    "if not os.path.exists('./state_employment'):\n",
    "    os.mkdir('./state_employment')"
   ]
  },
  {
   "cell_type": "code",
   "execution_count": null,
   "id": "9393fa19-b5a1-4a27-90ee-657b354b8269",
   "metadata": {},
   "outputs": [],
   "source": [
    "if not os.path.exists('./state_industry'):\n",
    "    os.mkdir('./state_industry')"
   ]
  },
  {
   "cell_type": "code",
   "execution_count": null,
   "id": "139e5c60-e5ee-4c10-beaf-a254950a26d6",
   "metadata": {},
   "outputs": [],
   "source": [
    "for state, dataframe in state_employment.items():\n",
    "    filename = f'./State Employment/{state}_employment.csv'\n",
    "    dataframe.to_csv(filename, index=False)"
   ]
  },
  {
   "cell_type": "code",
   "execution_count": 20,
   "id": "625b5a10",
   "metadata": {},
   "outputs": [
    {
     "name": "stdout",
     "output_type": "stream",
     "text": [
      "Alabama added to state employment dictionary.\n",
      "Alabama_Total Nonfarm added to list.\n",
      "Alabama_Mining and Logging added to list.\n",
      "Alabama_Construction added to list.\n",
      "Alabama_Manufacturing added to list.\n",
      "Alabama_Trade, Transportation, and Utils added to list.\n",
      "Alabama_Information added to list.\n",
      "Alabama_Financial Activities added to list.\n",
      "Alabama_Professional & Business Services added to list.\n",
      "Alabama_Education & Health Services added to list.\n",
      "Alabama_Leisure & Hospitality added to list.\n",
      "Alabama_Other Services added to list.\n",
      "Alabama_Government added to list.\n",
      "Alabama data added to state data dictionary\n",
      "Alaska added to state employment dictionary.\n",
      "Alaska_Total Nonfarm added to list.\n",
      "Alaska_Mining and Logging added to list.\n",
      "Alaska_Construction added to list.\n",
      "Alaska_Manufacturing added to list.\n",
      "Alaska_Trade, Transportation, and Utils added to list.\n",
      "Alaska_Information added to list.\n"
     ]
    },
    {
     "ename": "KeyboardInterrupt",
     "evalue": "",
     "output_type": "error",
     "traceback": [
      "\u001b[0;31m---------------------------------------------------------------------------\u001b[0m",
      "\u001b[0;31mKeyboardInterrupt\u001b[0m                         Traceback (most recent call last)",
      "\u001b[0;32m/var/folders/qp/clfzg_bn2wlgtrx99d36qsxw0000gn/T/ipykernel_26167/2406506427.py\u001b[0m in \u001b[0;36m<module>\u001b[0;34m\u001b[0m\n\u001b[1;32m     45\u001b[0m             \u001b[0mdfs\u001b[0m\u001b[0;34m[\u001b[0m\u001b[0msub_name\u001b[0m\u001b[0;34m]\u001b[0m \u001b[0;34m=\u001b[0m \u001b[0mdf\u001b[0m\u001b[0;34m.\u001b[0m\u001b[0mastype\u001b[0m\u001b[0;34m(\u001b[0m\u001b[0mfloat\u001b[0m\u001b[0;34m)\u001b[0m \u001b[0;31m# create state-subsegment entry for state dictionary\u001b[0m\u001b[0;34m\u001b[0m\u001b[0;34m\u001b[0m\u001b[0m\n\u001b[1;32m     46\u001b[0m             \u001b[0mprint\u001b[0m\u001b[0;34m(\u001b[0m\u001b[0;34mf'{data_name} added to list.'\u001b[0m\u001b[0;34m)\u001b[0m\u001b[0;34m\u001b[0m\u001b[0;34m\u001b[0m\u001b[0m\n\u001b[0;32m---> 47\u001b[0;31m             \u001b[0mtime\u001b[0m\u001b[0;34m.\u001b[0m\u001b[0msleep\u001b[0m\u001b[0;34m(\u001b[0m\u001b[0;36m1\u001b[0m\u001b[0;34m)\u001b[0m\u001b[0;34m\u001b[0m\u001b[0;34m\u001b[0m\u001b[0m\n\u001b[0m\u001b[1;32m     48\u001b[0m \u001b[0;34m\u001b[0m\u001b[0m\n\u001b[1;32m     49\u001b[0m     \u001b[0mstate_data\u001b[0m\u001b[0;34m[\u001b[0m\u001b[0mstate_name\u001b[0m\u001b[0;34m]\u001b[0m \u001b[0;34m=\u001b[0m \u001b[0mdfs\u001b[0m\u001b[0;34m\u001b[0m\u001b[0;34m\u001b[0m\u001b[0m\n",
      "\u001b[0;31mKeyboardInterrupt\u001b[0m: "
     ]
    }
   ],
   "source": [
    "# state_backdata.iloc[:2].items()\n",
    "state_data = {}\n",
    "state_employment = {}\n",
    "\n",
    "for state, links in list(state_backdata.items()):\n",
    "\n",
    "    state_name = state\n",
    "\n",
    "    dfs = {}\n",
    "    employment = {}\n",
    "\n",
    "    for i, link  in enumerate(links):\n",
    "        if i == 0:\n",
    "            resp = requests.get(link)\n",
    "            data_name = f'./state_employment/{state_name}_Employment'\n",
    "            output = open(f'{data_name}.xls', 'wb')\n",
    "            output.write(resp.content)\n",
    "            output.close()\n",
    "\n",
    "            df_list = pd.read_html(f'{data_name}.xls')\n",
    "            df_employment = pd.DataFrame(df_list[1])\n",
    "            # remove footnote markers\n",
    "            df_employment = df_employment.drop(df_employment.index[-1])\n",
    "            df_target = df_employment[['labor force participation rate','employment-population ratio', 'labor force', 'employment', 'unemployment', 'unemployment rate']] # where to apply regex\n",
    "            df_target = df_target.apply(remove_special_char).astype(float)\n",
    "            df_employment.loc[:, df_target.columns] = df_target\n",
    "            state_employment[state_name] = df_employment\n",
    "\n",
    "            print(f'{state_name} added to state employment dictionary.')\n",
    "            time.sleep(1)\n",
    "            \n",
    "        # pull in industry subsegment information\n",
    "        else:\n",
    "            resp = requests.get(link)\n",
    "            sub_name = subsegment[re.findall(\"\\/([A-Z\\d\\s]+)\", link)[0][10:12]]\n",
    "            data_name = f'./state_industry/{state_name}_{sub_name}'\n",
    "            output = open(f'{data_name}.xls', 'wb')\n",
    "            output.write(resp.content)\n",
    "            output.close()\n",
    "\n",
    "            df_list = pd.read_html(f'{data_name}.xls')\n",
    "            df = pd.DataFrame(df_list[1])\n",
    "            df.drop([10, 11], inplace=True) # removing unnecessary rows\n",
    "            df.set_index('Year', inplace=True)\n",
    "            dfs[sub_name] = df.astype(float) # create state-subsegment entry for state dictionary\n",
    "            print(f'{data_name} added to list.')\n",
    "            time.sleep(1)\n",
    "    \n",
    "    state_data[state_name] = dfs\n",
    "    print(f'{state_name} data added to state data dictionary')"
   ]
  },
  {
   "cell_type": "code",
   "execution_count": null,
   "id": "042d47d2",
   "metadata": {},
   "outputs": [],
   "source": []
  },
  {
   "cell_type": "code",
   "execution_count": null,
   "id": "83c0785d",
   "metadata": {},
   "outputs": [],
   "source": [
    "state_data['Alabama']['Total Nonfarm'].loc['2018'].mean()"
   ]
  },
  {
   "cell_type": "code",
   "execution_count": null,
   "id": "64e52c4e",
   "metadata": {},
   "outputs": [],
   "source": [
    "state_data['Alaska']['Total Nonfarm'].loc['2018'].mean()"
   ]
  },
  {
   "cell_type": "code",
   "execution_count": null,
   "id": "08644bf4",
   "metadata": {},
   "outputs": [],
   "source": [
    "pd.DataFrame(state_data).loc['Total Nonfarm', 'Alabama'].loc['2018'].mean()"
   ]
  },
  {
   "cell_type": "code",
   "execution_count": null,
   "id": "df720cc5",
   "metadata": {},
   "outputs": [],
   "source": [
    "state_data['Alabama']['Total Nonfarm']"
   ]
  },
  {
   "cell_type": "code",
   "execution_count": null,
   "id": "1f7feff8",
   "metadata": {},
   "outputs": [],
   "source": [
    "state_data['Alaska']['Total Nonfarm']"
   ]
  },
  {
   "cell_type": "code",
   "execution_count": null,
   "id": "afb8ca61",
   "metadata": {},
   "outputs": [],
   "source": [
    "state_data.items()"
   ]
  },
  {
   "cell_type": "code",
   "execution_count": null,
   "id": "052b5694",
   "metadata": {},
   "outputs": [],
   "source": [
    "list(state_data.items())[0]"
   ]
  },
  {
   "cell_type": "code",
   "execution_count": null,
   "id": "8b785d22",
   "metadata": {},
   "outputs": [],
   "source": [
    "list(list(state_data.items())[0][1].items())"
   ]
  },
  {
   "cell_type": "code",
   "execution_count": null,
   "id": "59609cec",
   "metadata": {},
   "outputs": [],
   "source": [
    "target_year = '2018'\n",
    "\n",
    "state_avgs_2018 = {}\n",
    "\n",
    "for state_name, data in state_data.items():\n",
    "    year_avgs = {}\n",
    "\n",
    "    for subsegment, data_local in data.items():\n",
    "        year_avgs[subsegment] = round(data_local.loc[target_year, :].mean(), 3)\n",
    "        print(f'{state_name} {target_year} data added to year averages')\n",
    "\n",
    "    state_avgs_2018[state_name] = year_avgs\n",
    "    print(f'{state_name} averages added to state year dictionary')"
   ]
  },
  {
   "cell_type": "code",
   "execution_count": null,
   "id": "a04c865f",
   "metadata": {},
   "outputs": [],
   "source": [
    "economies_2018 = pd.DataFrame(state_avgs_2018).T\n",
    "economies_2018"
   ]
  },
  {
   "cell_type": "code",
   "execution_count": null,
   "id": "7545d23f",
   "metadata": {},
   "outputs": [],
   "source": [
    "economies_2018['Mining, Logging and Construction'] = economies_2018['Mining, Logging and Construction'].fillna(economies_2018['Mining and Logging'] + economies_2018['Construction'])\n",
    "\n",
    "economies_2018 = economies_2018.drop(columns=['Mining and Logging', 'Construction'])"
   ]
  },
  {
   "cell_type": "code",
   "execution_count": null,
   "id": "6cd0272d",
   "metadata": {},
   "outputs": [],
   "source": [
    "economies_2018.isnull().sum()"
   ]
  },
  {
   "cell_type": "code",
   "execution_count": null,
   "id": "66d5d3cf",
   "metadata": {},
   "outputs": [],
   "source": [
    "economies_2018_pcts = economies_2018.copy()\n",
    "\n",
    "for column in economies_2018.columns[1:]:\n",
    "    new_column = f'pct_{column}'\n",
    "    economies_2018_pcts[new_column] = round(economies_2018[column] / economies_2018['Total Nonfarm'], 4) \n",
    "\n",
    "economies_2018_pcts.head()"
   ]
  },
  {
   "cell_type": "code",
   "execution_count": null,
   "id": "9a87ed55",
   "metadata": {},
   "outputs": [],
   "source": [
    "economies_2018_pcts.to_csv('./Source Data/economies_2018.csv')"
   ]
  },
  {
   "cell_type": "code",
   "execution_count": null,
   "id": "d61bfb26",
   "metadata": {},
   "outputs": [],
   "source": [
    "target_year = '2021'\n",
    "\n",
    "state_avgs_2021 = {}\n",
    "\n",
    "for state_name, data in state_data.items():\n",
    "    year_avgs = {}\n",
    "\n",
    "    for subsegment, data_local in data.items():\n",
    "        year_avgs[subsegment] = round(data_local.loc[target_year, :].mean(), 3)\n",
    "        print(f'{state_name} {target_year} data added to year averages')\n",
    "\n",
    "    state_avgs_2021[state_name] = year_avgs\n",
    "    print(f'{state_name} averages added to state year dictionary')"
   ]
  },
  {
   "cell_type": "code",
   "execution_count": null,
   "id": "0832f66f",
   "metadata": {},
   "outputs": [],
   "source": [
    "state_avgs_2021"
   ]
  },
  {
   "cell_type": "code",
   "execution_count": null,
   "id": "87717064",
   "metadata": {},
   "outputs": [],
   "source": [
    "economies_2021 = pd.DataFrame(state_avgs_2021).T\n",
    "economies_2021"
   ]
  },
  {
   "cell_type": "code",
   "execution_count": null,
   "id": "a0ec12a8",
   "metadata": {},
   "outputs": [],
   "source": [
    "economies_2021['Mining, Logging and Construction'] = economies_2021['Mining, Logging and Construction'].fillna(economies_2021['Mining and Logging'] + economies_2021['Construction'])\n",
    "\n",
    "economies_2021 = economies_2021.drop(columns=['Mining and Logging', 'Construction'])"
   ]
  },
  {
   "cell_type": "code",
   "execution_count": null,
   "id": "892d7d43",
   "metadata": {},
   "outputs": [],
   "source": [
    "economies_2021_pcts = economies_2021.copy()\n",
    "\n",
    "for column in economies_2021.columns[1:]:\n",
    "    new_column = f'pct_{column}'\n",
    "    economies_2021_pcts[new_column] = round(economies_2021[column] / economies_2021['Total Nonfarm'], 4) \n",
    "\n",
    "economies_2021_pcts.head()"
   ]
  },
  {
   "cell_type": "code",
   "execution_count": null,
   "id": "db6db0db",
   "metadata": {},
   "outputs": [],
   "source": [
    "economies_2021_pcts.to_csv('./Source Data/economies_2021.csv', index_label='State')"
   ]
  },
  {
   "cell_type": "code",
   "execution_count": null,
   "id": "69b244a2",
   "metadata": {},
   "outputs": [],
   "source": [
    "pd.read_csv('./Source Data/economies_2021.csv').set_index('State')"
   ]
  },
  {
   "cell_type": "markdown",
   "id": "790b3aba",
   "metadata": {},
   "source": [
    "We lost resolution on how 'Mining and Logging' as a separate industry subsegment impacts economic resiliency. We could create an additional clustering model for analysis that leaves out the states the were missing the 'Mining and Logging' subsegment, to see if there is a strong/notable correlation."
   ]
  },
  {
   "cell_type": "code",
   "execution_count": null,
   "id": "42392085",
   "metadata": {},
   "outputs": [],
   "source": [
    "state_employment['Alabama']"
   ]
  },
  {
   "cell_type": "markdown",
   "id": "5f661250",
   "metadata": {},
   "source": [
    "Exploring adding percent-of-total-nonfarm columns for each column"
   ]
  },
  {
   "cell_type": "code",
   "execution_count": null,
   "id": "7fe51170",
   "metadata": {},
   "outputs": [],
   "source": [
    "economies_2018.columns"
   ]
  },
  {
   "cell_type": "code",
   "execution_count": null,
   "id": "bc7a8a1a",
   "metadata": {},
   "outputs": [],
   "source": [
    "economies_2018_pcts = economies_2018.copy()\n",
    "\n",
    "for column in economies_2018.columns[1:]:\n",
    "    new_column = f'pct_{column}'\n",
    "    economies_2018_pcts[new_column] = round(economies_2018[column] / economies_2018['Total Nonfarm'], 4) \n",
    "\n",
    "economies_2018_pcts.head()"
   ]
  },
  {
   "cell_type": "code",
   "execution_count": null,
   "id": "b769949a",
   "metadata": {},
   "outputs": [],
   "source": [
    "economies_2018_pcts.iloc[:, -10:].T.sum()"
   ]
  },
  {
   "cell_type": "code",
   "execution_count": null,
   "id": "219a598a",
   "metadata": {},
   "outputs": [],
   "source": [
    "state_employment"
   ]
  },
  {
   "cell_type": "code",
   "execution_count": null,
   "id": "a1b52007",
   "metadata": {},
   "outputs": [],
   "source": [
    "state_employment.items()"
   ]
  },
  {
   "cell_type": "code",
   "execution_count": null,
   "id": "54dd9f64",
   "metadata": {},
   "outputs": [],
   "source": [
    "if not os.path.exists('./State Employment'):\n",
    "    os.mkdir('./State Employment')"
   ]
  },
  {
   "cell_type": "code",
   "execution_count": null,
   "id": "91184268",
   "metadata": {},
   "outputs": [],
   "source": [
    "for state, dataframe in state_employment.items():\n",
    "    filename = f'./State Employment/{state}_employment.csv'\n",
    "    dataframe.to_csv(filename, index=False)"
   ]
  }
 ],
 "metadata": {
  "kernelspec": {
   "display_name": "Python 3 (ipykernel)",
   "language": "python",
   "name": "python3"
  },
  "language_info": {
   "codemirror_mode": {
    "name": "ipython",
    "version": 3
   },
   "file_extension": ".py",
   "mimetype": "text/x-python",
   "name": "python",
   "nbconvert_exporter": "python",
   "pygments_lexer": "ipython3",
   "version": "3.9.7"
  }
 },
 "nbformat": 4,
 "nbformat_minor": 5
}
