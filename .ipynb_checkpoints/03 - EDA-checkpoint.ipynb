{
 "cells": [
  {
   "cell_type": "markdown",
   "id": "d63930bf-d6bf-43df-8870-4bd2ad142fa9",
   "metadata": {},
   "source": [
    "# 03 - EDA Notebook\n",
    "The intent of this notebook is to explore the relationships that the KMeans clustering model defined by viewing our data in a pivot table format, and plotting the results to visualize our findings."
   ]
  },
  {
   "cell_type": "code",
   "execution_count": null,
   "id": "2ef191da",
   "metadata": {},
   "outputs": [],
   "source": [
    "import numpy as np\n",
    "import pandas as pd\n",
    "import matplotlib.pyplot as plt\n",
    "plt.style.use('ggplot') \n",
    "%matplotlib inline"
   ]
  },
  {
   "cell_type": "code",
   "execution_count": null,
   "id": "20d36960-432b-41c8-bc6f-aa4da3ca8a38",
   "metadata": {},
   "outputs": [],
   "source": [
    "np.random.seed(42)"
   ]
  },
  {
   "cell_type": "code",
   "execution_count": null,
   "id": "0c93be8e",
   "metadata": {},
   "outputs": [],
   "source": [
    "df = pd.read_csv('./state_employment/KMeans-5_Cluster-0_employment.csv', index_col='date')\n",
    "pivot = df.pivot_table(values='unemployment rate', index=df.index, columns='State')\n",
    "\n",
    "pivot.plot(legend=True)\n",
    "plt.xticks(rotation = 45, fontsize = '14')\n",
    "plt.rcParams[\"figure.figsize\"] = (20,3)\n",
    "plt.title('KMEANS Cluster 0 States Unemployment Rate', fontsize = '25')\n",
    "plt.xlabel('Date', fontsize = '23')\n",
    "plt.ylabel('Percent', fontsize = '23')\n",
    "ax = plt.gca()\n",
    "ax.set_ylim([0, 25]);"
   ]
  },
  {
   "cell_type": "code",
   "execution_count": null,
   "id": "a1a49ba2",
   "metadata": {},
   "outputs": [],
   "source": [
    "df = pd.read_csv('./state_employment/KMeans-5_Cluster-1_employment.csv', index_col='date')\n",
    "\n",
    "pivot = df.pivot_table(values='unemployment rate', index=df.index, columns='State')\n",
    "\n",
    "pivot.plot(legend=True)\n",
    "plt.xticks(rotation = 45, fontsize = '14')\n",
    "plt.rcParams[\"figure.figsize\"] = (20,3)\n",
    "plt.title('KMEANS Cluster 1 States Unemployment Rate', fontsize = '25')\n",
    "plt.xlabel('Date', fontsize = '23')\n",
    "plt.ylabel('Percent', fontsize = '23')\n",
    "ax = plt.gca()\n",
    "ax.set_ylim([0, 25]);"
   ]
  },
  {
   "cell_type": "code",
   "execution_count": null,
   "id": "3cb7c0f2",
   "metadata": {},
   "outputs": [],
   "source": [
    "pivot.T.mean().plot()\n",
    "plt.xticks(rotation = 45)\n",
    "plt.rcParams[\"figure.figsize\"] = (20,3)\n",
    "plt.title('KMEANS Cluster 2 States Unemployment Rate (MEAN)', fontsize = '25')\n",
    "plt.xlabel('Date', fontsize = '23')\n",
    "plt.ylabel('Percent', fontsize = '23')\n",
    "ax = plt.gca()\n",
    "ax.set_ylim([0, 25]);"
   ]
  },
  {
   "cell_type": "code",
   "execution_count": null,
   "id": "184b4164",
   "metadata": {},
   "outputs": [],
   "source": [
    "df = pd.read_csv('./state_employment/KMeans-5_Cluster-2_employment.csv', index_col='date')\n",
    "\n",
    "pivot = df.pivot_table(values='unemployment rate', index=df.index, columns='State')\n",
    "\n",
    "pivot.plot(legend=True)\n",
    "plt.xticks(rotation = 45, fontsize = '14')\n",
    "plt.rcParams[\"figure.figsize\"] = (20,3)\n",
    "plt.title('KMEANS Cluster 2 States Unemployment Rate', fontsize = '25')\n",
    "plt.xlabel('Date', fontsize = '23')\n",
    "plt.ylabel('Percent', fontsize = '23')\n",
    "ax = plt.gca()\n",
    "ax.set_ylim([0, 25]);"
   ]
  },
  {
   "cell_type": "code",
   "execution_count": null,
   "id": "46d06fb4",
   "metadata": {},
   "outputs": [],
   "source": [
    "pivot.T.mean().plot()\n",
    "plt.xticks(rotation = 45)\n",
    "plt.rcParams[\"figure.figsize\"] = (20,3)\n",
    "plt.title('KMEANS Cluster 2 States Unemployment Rate (MEAN)', fontsize = '25')\n",
    "plt.xlabel('Date', fontsize = '23')\n",
    "plt.ylabel('Percent', fontsize = '23')\n",
    "ax = plt.gca()\n",
    "ax.set_ylim([0, 25]);"
   ]
  },
  {
   "cell_type": "code",
   "execution_count": null,
   "id": "eea701db",
   "metadata": {},
   "outputs": [],
   "source": [
    "df = pd.read_csv('./state_employment/KMeans-5_Cluster-3_employment.csv', index_col='date')\n",
    "\n",
    "pivot = df.pivot_table(values='unemployment rate', index=df.index, columns='State')\n",
    "\n",
    "pivot.plot(legend=True)\n",
    "plt.xticks(rotation = 45, fontsize = '14')\n",
    "plt.rcParams[\"figure.figsize\"] = (20,3)\n",
    "plt.title('KMEANS Cluster 3 States Unemployment Rate', fontsize = '25')\n",
    "plt.xlabel('Date', fontsize = '23')\n",
    "plt.ylabel('Percent', fontsize = '23')\n",
    "ax = plt.gca()\n",
    "ax.set_ylim([0, 25]);"
   ]
  },
  {
   "cell_type": "code",
   "execution_count": null,
   "id": "a6c13884",
   "metadata": {
    "tags": []
   },
   "outputs": [],
   "source": [
    "pivot.T.mean().plot()\n",
    "plt.xticks(rotation = 45)\n",
    "plt.rcParams[\"figure.figsize\"] = (20,3)\n",
    "plt.title('KMEANS Cluster 3 States Unemployment Rate (MEAN)', fontsize = '25')\n",
    "plt.xlabel('Date', fontsize = '23')\n",
    "plt.ylabel('Percent', fontsize = '23')\n",
    "ax = plt.gca()\n",
    "ax.set_ylim([0, 25]);"
   ]
  },
  {
   "cell_type": "code",
   "execution_count": null,
   "id": "2053ed1f",
   "metadata": {},
   "outputs": [],
   "source": [
    "df = pd.read_csv('./state_employment/KMeans-5_Cluster-4_employment.csv', index_col='date')\n",
    "\n",
    "pivot = df.pivot_table(values='unemployment rate', index=df.index, columns='State')\n",
    "\n",
    "pivot.plot(legend=True)\n",
    "plt.xticks(rotation = 45, fontsize = '14')\n",
    "plt.rcParams[\"figure.figsize\"] = (20,3)\n",
    "plt.title('KMEANS Cluster 4 States Unemployment Rate', fontsize = '25')\n",
    "plt.xlabel('Date', fontsize = '23')\n",
    "plt.ylabel('Percent', fontsize = '23')\n",
    "ax = plt.gca()\n",
    "ax.set_ylim([0, 25]);"
   ]
  },
  {
   "cell_type": "code",
   "execution_count": null,
   "id": "d6f5e094",
   "metadata": {},
   "outputs": [],
   "source": [
    "df1 = pd.read_csv('./state_employment/KMeans-5_Cluster-0_employment.csv', index_col='date')\n",
    "pivot1 = df1.pivot_table(values='unemployment rate', index=df1.index, columns='State')\n",
    "\n",
    "df2 = pd.read_csv('./state_employment/KMeans-5_Cluster-1_employment.csv', index_col='date')\n",
    "pivot2 = df2.pivot_table(values='unemployment rate', index=df2.index, columns='State')\n",
    "\n",
    "df3 = pd.read_csv('./state_employment/KMeans-5_Cluster-2_employment.csv', index_col='date')\n",
    "pivot3 = df3.pivot_table(values='unemployment rate', index=df3.index, columns='State')\n",
    "\n",
    "df4 = pd.read_csv('./state_employment/KMeans-5_Cluster-3_employment.csv', index_col='date')\n",
    "pivot4 = df4.pivot_table(values='unemployment rate', index=df4.index, columns='State')\n",
    "\n",
    "df5 = pd.read_csv('./state_employment/KMeans-5_Cluster-4_employment.csv', index_col='date')\n",
    "pivot5 = df5.pivot_table(values='unemployment rate', index=df5.index, columns='State')\n",
    "\n",
    "plt.figure(figsize = (16,6))\n",
    "pivot1.T.mean().plot(label = 'Cluster 0')\n",
    "pivot2.T.mean().plot(label = 'Cluster 1')\n",
    "pivot3.T.mean().plot(label = 'Cluster 2')\n",
    "pivot4.T.mean().plot(label = 'Cluster 3')\n",
    "pivot5.T.mean().plot(label = 'Cluster 4')\n",
    "plt.yticks(fontsize = '14')\n",
    "plt.xticks(rotation = 45, fontsize = '14')\n",
    "plt.title('Unemployment Rate Over Time by Clusters', fontsize = '22')\n",
    "plt.xlabel('Date', fontsize = '18')\n",
    "plt.ylabel('Percentage', fontsize = '18')\n",
    "plt.legend();"
   ]
  },
  {
   "cell_type": "code",
   "execution_count": null,
   "id": "4d94a69d-b57a-4bff-8f8d-ac1346ad9000",
   "metadata": {},
   "outputs": [],
   "source": [
    "pivot1 = df1.pivot_table(values='employment-population ratio', index=df1.index, columns='State')\n",
    "# pivot1.plot(legend=False)\n",
    "\n",
    "pivot2 = df2.pivot_table(values='employment-population ratio', index=df2.index, columns='State')\n",
    "# pivot2.plot(legend=False)\n",
    "\n",
    "pivot3 = df3.pivot_table(values='employment-population ratio', index=df3.index, columns='State')\n",
    "# pivot3.plot(legend=True)\n",
    "\n",
    "pivot4 = df4.pivot_table(values='employment-population ratio', index=df4.index, columns='State')\n",
    "# pivot4.plot(legend=False)\n",
    "\n",
    "pivot5 = df5.pivot_table(values='employment-population ratio', index=df5.index, columns='State')\n",
    "# pivot5.plot(legend=True)\n",
    "\n",
    "plt.figure(figsize = (16,6))\n",
    "pivot1.T.mean().plot(label = 'Cluster 0')\n",
    "pivot2.T.mean().plot(label = 'Cluster 1')\n",
    "pivot3.T.mean().plot(label = 'Cluster 2')\n",
    "pivot4.T.mean().plot(label = 'Cluster 3')\n",
    "pivot5.T.mean().plot(label = 'Cluster 4')\n",
    "plt.yticks( fontsize = '14');\n",
    "plt.xticks(rotation = 45, fontsize = '14');\n",
    "plt.title('Employment-Population Ratio Over Time by Clusters', fontsize = '22')\n",
    "plt.xlabel('Date', fontsize = '18')\n",
    "plt.ylabel('Percentage', fontsize = '18')\n",
    "plt.legend();"
   ]
  }
 ],
 "metadata": {
  "kernelspec": {
   "display_name": "Python 3 (ipykernel)",
   "language": "python",
   "name": "python3"
  },
  "language_info": {
   "codemirror_mode": {
    "name": "ipython",
    "version": 3
   },
   "file_extension": ".py",
   "mimetype": "text/x-python",
   "name": "python",
   "nbconvert_exporter": "python",
   "pygments_lexer": "ipython3",
   "version": "3.9.7"
  }
 },
 "nbformat": 4,
 "nbformat_minor": 5
}
