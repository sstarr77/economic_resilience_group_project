{
 "cells": [
  {
   "cell_type": "markdown",
   "id": "99d7b998-48e5-4741-a48c-b9302fe6b43b",
   "metadata": {},
   "source": [
    "# 01 - Clustering Notebook\n",
    "The intent of this notebook is to cluster our data to find meaningful relationships within the data. Within this notebook, we will be scaling the data we would like to cluster, then perform a FeatureUnion to bring in the remaining data, before running it through both a DBScan and KMeans model. At the end of the notebook, we analyze our findings by cluster."
   ]
  },
  {
   "cell_type": "code",
   "execution_count": null,
   "id": "d61eb3be-17c7-4b22-b08a-81fd96f6d037",
   "metadata": {},
   "outputs": [],
   "source": [
    "## Standard Imports\n",
    "import numpy as np\n",
    "import pandas as pd\n",
    "import matplotlib.pyplot as plt\n",
    "# plt.style.use('ggplot') \n",
    "# %matplotlib inline\n",
    "\n",
    "# sklearn imports\n",
    "from sklearn.preprocessing import StandardScaler, FunctionTransformer\n",
    "from sklearn.pipeline import Pipeline, FeatureUnion\n",
    "from sklearn.cluster import KMeans, DBSCAN\n",
    "from sklearn.metrics import silhouette_score"
   ]
  },
  {
   "cell_type": "code",
   "execution_count": null,
   "id": "e6a86a9c-40be-4bf0-a6a8-4c696c1c8881",
   "metadata": {},
   "outputs": [],
   "source": [
    "np.random.seed(40)"
   ]
  },
  {
   "cell_type": "code",
   "execution_count": null,
   "id": "34a597c6-7bf9-4e13-b17c-b9cc65a84f62",
   "metadata": {},
   "outputs": [],
   "source": [
    "df_2018 = pd.read_csv('./source_data/economies_2018.csv', index_col =0)\n",
    "df_2021 = pd.read_csv('./source_data/economies_2021.csv', index_col =0)\n",
    "\n",
    "df_2018.head()"
   ]
  },
  {
   "cell_type": "code",
   "execution_count": null,
   "id": "57808f94-6ae6-4b2a-8fb1-5f842ae4a32c",
   "metadata": {},
   "outputs": [],
   "source": [
    "# Check for null values in dataframes\n",
    "print(df_2021.isnull().sum())\n",
    "print(df_2018.isnull().sum())"
   ]
  },
  {
   "cell_type": "markdown",
   "id": "698953e5-c06b-4dce-88f8-91640c38aaba",
   "metadata": {},
   "source": [
    "#### Scaling & FeatureUnion within Pipelines"
   ]
  },
  {
   "cell_type": "code",
   "execution_count": null,
   "id": "a814081b",
   "metadata": {},
   "outputs": [],
   "source": [
    "target_columns = df_2018.drop(columns=df_2018.columns[1:11]).columns\n",
    "target_columns"
   ]
  },
  {
   "cell_type": "markdown",
   "id": "56e251a1-7038-4438-9a7f-5e3107de07ec",
   "metadata": {},
   "source": [
    "#### The following functions are used within the Pipelines for either the scaled data or FeatureUnion"
   ]
  },
  {
   "cell_type": "code",
   "execution_count": null,
   "id": "6320e040",
   "metadata": {},
   "outputs": [],
   "source": [
    "def get_scaled_columns(df):\n",
    "    return pd.DataFrame(df[target_columns[0]])\n",
    "\n",
    "get_scaled_transformer = FunctionTransformer(get_scaled_columns, validate=False)"
   ]
  },
  {
   "cell_type": "code",
   "execution_count": null,
   "id": "d0b0fadf",
   "metadata": {},
   "outputs": [],
   "source": [
    "def get_non_scaled_columns(df):\n",
    "    return df[target_columns[1:]]\n",
    "\n",
    "get_non_scaled_transformer = FunctionTransformer(get_non_scaled_columns, validate=False)"
   ]
  },
  {
   "cell_type": "code",
   "execution_count": null,
   "id": "5235b81a",
   "metadata": {},
   "outputs": [],
   "source": [
    "pipe_scaler = Pipeline([\n",
    "    ('scale_transform', get_scaled_transformer),\n",
    "    ('ss', StandardScaler())\n",
    "])"
   ]
  },
  {
   "cell_type": "code",
   "execution_count": null,
   "id": "fdc078cb",
   "metadata": {
    "scrolled": true
   },
   "outputs": [],
   "source": [
    "union = FeatureUnion([\n",
    "    ('vect_pipe', pipe_scaler),\n",
    "    ('other_cols', get_non_scaled_transformer)\n",
    "])\n",
    "\n",
    "union_res = union.fit_transform(df_2018)"
   ]
  },
  {
   "cell_type": "code",
   "execution_count": null,
   "id": "00a7980e",
   "metadata": {},
   "outputs": [],
   "source": [
    "df_2018_sc = pd.DataFrame(union_res, columns=target_columns)\n",
    "df_2018_sc.head()"
   ]
  },
  {
   "cell_type": "markdown",
   "id": "45aa39f7-8b4f-4e63-af01-c8d06edf39a0",
   "metadata": {},
   "source": [
    "#### DBScan Clustering\n",
    "Using DBScan to determine how best to cluster the data."
   ]
  },
  {
   "cell_type": "code",
   "execution_count": null,
   "id": "f41a47d4-0398-4551-8bab-16777f2d2809",
   "metadata": {},
   "outputs": [],
   "source": [
    "from sklearn.cluster import DBSCAN\n",
    "def find_best_silhouette(X):     \n",
    "    max_score=-1\n",
    "    for eps in np.linspace(0.2, 5, 20):\n",
    "        for minsamples in range(2, round(len(X) / 2)):\n",
    "            dbscan = DBSCAN(eps=eps, min_samples=minsamples)\n",
    "            dbscan.fit(X)\n",
    "            if len(set(dbscan.labels_)) > 2:\n",
    "                score = silhouette_score(X, dbscan.labels_)\n",
    "                if -1 in set(dbscan.labels_):\n",
    "                    nclusters = len(set(dbscan.labels_)) - 1\n",
    "                else:\n",
    "                    nclusters = len(set(dbscan.labels_)) \n",
    "                if score > max_score:\n",
    "                    max_score = score\n",
    "                    best_eps = eps\n",
    "                    best_minsamples = minsamples\n",
    "                    best_clusters = nclusters\n",
    "    print(f'Best silhouette score was {round(max_score, 5)}')\n",
    "    print(f'Best eps was {round(best_eps, 2)}')\n",
    "    print(f'Best min_samples was {best_minsamples}.')\n",
    "    print(f'Model found {best_clusters} clusters.')\n",
    "    return\n",
    "find_best_silhouette(df_2018_sc)"
   ]
  },
  {
   "cell_type": "markdown",
   "id": "04b081ec-0aa7-4ec3-ad89-e338c97ed29c",
   "metadata": {},
   "source": [
    "#### KMeans Clustering"
   ]
  },
  {
   "cell_type": "markdown",
   "id": "cd1baa6e-6953-43ea-81f7-6b8ddc05c495",
   "metadata": {},
   "source": [
    "##### Looping through KMeans clusters to determine best Silhoutte Score"
   ]
  },
  {
   "cell_type": "code",
   "execution_count": null,
   "id": "d4fbee44-23c0-43bd-a656-64affe6dcc56",
   "metadata": {},
   "outputs": [],
   "source": [
    "silhouette_list = []\n",
    "\n",
    "for k in range(2, 25):\n",
    "    kmeans = KMeans(n_clusters=k, random_state=13)\n",
    "    kmeans.fit(df_2018_sc)\n",
    "    silhouette_list.append(silhouette_score(df_2018_sc, kmeans.labels_))\n",
    "silhouette_list"
   ]
  },
  {
   "cell_type": "markdown",
   "id": "f00ae3a0-ed5f-446c-996a-3ff466ab8d7e",
   "metadata": {},
   "source": [
    "#### Looping through KMeans clusters to determine best Inertia Score"
   ]
  },
  {
   "cell_type": "code",
   "execution_count": null,
   "id": "85bdfa4b-0902-48c8-b1c1-02a063cf0823",
   "metadata": {},
   "outputs": [],
   "source": [
    "inertias = []\n",
    "ks = list(range(2,25))\n",
    "\n",
    "for k in ks:\n",
    "    km = KMeans(n_clusters=k, random_state=13)\n",
    "    km.fit(df_2018_sc)\n",
    "    inertias.append(km.inertia_)\n",
    "plt.plot(ks, inertias);"
   ]
  },
  {
   "cell_type": "markdown",
   "id": "c9d48d15-d21e-458a-ac26-5f72dcd147fe",
   "metadata": {},
   "source": [
    "#### Simplified version of Scaling & FeatureUnion for 2021"
   ]
  },
  {
   "cell_type": "code",
   "execution_count": null,
   "id": "a4415cda",
   "metadata": {},
   "outputs": [],
   "source": [
    "union_res_2021 = union.fit_transform(df_2021)"
   ]
  },
  {
   "cell_type": "code",
   "execution_count": null,
   "id": "9b37c610",
   "metadata": {},
   "outputs": [],
   "source": [
    "df_2021_sc = pd.DataFrame(union_res_2021, columns=target_columns)\n",
    "df_2021_sc.head()"
   ]
  },
  {
   "cell_type": "markdown",
   "id": "0f27c29e-4184-4b7f-b705-87dc2c21d8fb",
   "metadata": {},
   "source": [
    "##### Looping through KMeans clusters to determine best Silhoutte Score"
   ]
  },
  {
   "cell_type": "code",
   "execution_count": null,
   "id": "a8a0c9c7-5e07-488f-a3e3-2dd905b7f580",
   "metadata": {},
   "outputs": [],
   "source": [
    "silhouette_list = []\n",
    "\n",
    "for k in range(2, 25):\n",
    "    kmeans = KMeans(n_clusters=k, random_state=13)\n",
    "    kmeans.fit(df_2021_sc)\n",
    "    silhouette_list.append(silhouette_score(df_2021_sc, kmeans.labels_))\n",
    "silhouette_list"
   ]
  },
  {
   "cell_type": "markdown",
   "id": "0049d2b9-5f62-49ac-b6a3-aab72dd28fe2",
   "metadata": {},
   "source": [
    "##### Looping through KMeans clusters to determine best Inertia Score"
   ]
  },
  {
   "cell_type": "code",
   "execution_count": null,
   "id": "0a90db96-dd9e-4a26-9a75-67d5f7ec892a",
   "metadata": {},
   "outputs": [],
   "source": [
    "inertias = []\n",
    "ks = list(range(2,25))\n",
    "\n",
    "for k in ks:\n",
    "    km = KMeans(n_clusters=k, random_state=13)\n",
    "    km.fit(df_2021_sc)\n",
    "    inertias.append(km.inertia_)\n",
    "plt.plot(ks, inertias);"
   ]
  },
  {
   "cell_type": "markdown",
   "id": "fca45deb-32aa-44fa-9712-035bd1900644",
   "metadata": {},
   "source": [
    "#### Instantiate & Fit KMeans Models"
   ]
  },
  {
   "cell_type": "code",
   "execution_count": null,
   "id": "17781d56-830d-4c47-bb26-36f0db5c64ed",
   "metadata": {},
   "outputs": [],
   "source": [
    "df_2018_clusters = df_2018.copy()\n",
    "df_2021_clusters = df_2021.copy()"
   ]
  },
  {
   "cell_type": "code",
   "execution_count": null,
   "id": "f8e13c29-0622-418f-ae6d-a4d0a24aeddf",
   "metadata": {},
   "outputs": [],
   "source": [
    "km = KMeans(n_clusters=4, random_state=13)\n",
    "km.fit(df_2018_sc)\n",
    "df_2018_clusters['clusters-4'] = km.labels_\n",
    "km.fit(df_2021_sc)\n",
    "df_2021_clusters['clusters-4'] = km.labels_\n",
    "df_2018_clusters.head()"
   ]
  },
  {
   "cell_type": "markdown",
   "id": "9a146a86-664d-4c0d-8c1d-d2871609eb8f",
   "metadata": {},
   "source": [
    "##### Viewing outputs by cluster"
   ]
  },
  {
   "cell_type": "code",
   "execution_count": null,
   "id": "366a8999-44d3-4952-8380-98c057c446e2",
   "metadata": {},
   "outputs": [],
   "source": [
    "# 4 clusters sil score = 0.545\n",
    "for r in range(4):\n",
    "    print(f'cluster {r}')\n",
    "    print(df_2018_clusters[df_2018_clusters['clusters-4']==r].index)\n",
    "    print()"
   ]
  },
  {
   "cell_type": "code",
   "execution_count": null,
   "id": "7e7d7c63-ad55-4e0c-a01c-1dca2fb44d0f",
   "metadata": {},
   "outputs": [],
   "source": [
    "# 3 clusters sil score = 0.55\n",
    "km = KMeans(n_clusters=3, random_state=13)\n",
    "km.fit(df_2018_sc)\n",
    "df_2018_clusters['clusters-3'] = km.labels_\n",
    "for r in range(3):\n",
    "    print(f'cluster {r}')\n",
    "    print(df_2018_clusters[df_2018_clusters['clusters-3']==r].index)\n",
    "    print()"
   ]
  },
  {
   "cell_type": "code",
   "execution_count": null,
   "id": "a90620d3-6c0d-4556-ba0c-e6a5833024e2",
   "metadata": {},
   "outputs": [],
   "source": [
    "# 5 clusters sil score = 0.449\n",
    "km = KMeans(n_clusters=5, random_state=13)\n",
    "km.fit(df_2018_sc)\n",
    "df_2018_clusters['clusters-5'] = km.labels_\n",
    "for r in range(5):\n",
    "    print(f'cluster {r}')\n",
    "    print(df_2018_clusters[df_2018_clusters['clusters-5']==r].index)\n",
    "    print()"
   ]
  },
  {
   "cell_type": "code",
   "execution_count": null,
   "id": "a9c9bb2d-c229-4a4a-8d90-329ceb85e620",
   "metadata": {},
   "outputs": [],
   "source": [
    "# Save dataframe to CSV in the source_data directory\n",
    "df_2018_clusters.to_csv('./source_data/2018_with_clusters.csv', index_label='State')"
   ]
  },
  {
   "cell_type": "markdown",
   "id": "58558e24-68ce-4b85-9228-ce2d043bec9d",
   "metadata": {},
   "source": [
    "##### Visualize statistics by cluster in a table format"
   ]
  },
  {
   "cell_type": "code",
   "execution_count": null,
   "id": "2707602f",
   "metadata": {},
   "outputs": [],
   "source": [
    "# Used to easily visualize output of following cell\n",
    "pd.set_option('display.max_rows', None)"
   ]
  },
  {
   "cell_type": "markdown",
   "id": "364b2b34-d9cc-492b-b5ea-6761043de30a",
   "metadata": {},
   "source": [
    "##### To change which cluster to analyze, change the `by='clusters-5'` to `clusters-4` or `clusters-3`"
   ]
  },
  {
   "cell_type": "code",
   "execution_count": null,
   "id": "b02f5561",
   "metadata": {
    "tags": []
   },
   "outputs": [],
   "source": [
    "df_2018_clusters.groupby(by='clusters-5').describe().T"
   ]
  },
  {
   "cell_type": "markdown",
   "id": "137a48ef-6c16-47c3-92ed-5305defe1832",
   "metadata": {},
   "source": [
    "#### Economic Breakdown by Cluster"
   ]
  },
  {
   "cell_type": "code",
   "execution_count": null,
   "id": "f730d570-3e3f-4672-9fae-6f5993312a8e",
   "metadata": {},
   "outputs": [],
   "source": [
    "cluster_industries = df_2018_clusters.groupby(by='clusters-5').agg('mean').T.iloc[11:-2,::]\n",
    "cluster_industries.rename(index={'pct_Manufacturing':'Manufacturing',\n",
    "                                 'pct_Trade, Transportation, and Utils':'Trade, Transportation, Utils',\n",
    "                                 'pct_Information':'Information',\n",
    "                                 'pct_Financial Activities':'Financial Activites',\n",
    "                                 'pct_Professional & Business Services':'Professional & Business Services',\n",
    "                                 'pct_Education & Health Services':'Education & Health Services',\n",
    "                                 'pct_Leisure & Hospitality':'Leisure & Hospitality',\n",
    "                                 'pct_Other Services':'Other Services',\n",
    "                                 'pct_Government':'Government',\n",
    "                                 'pct_Mining, Logging and Construction':'Mining, Logging, & Construction'}, inplace = True)"
   ]
  },
  {
   "cell_type": "code",
   "execution_count": null,
   "id": "8b9abbe4-0ae8-4665-90b0-75731a29cb7d",
   "metadata": {},
   "outputs": [],
   "source": [
    "cluster_industries.plot.barh(figsize = (16,12), width = 0.8, color=['turquoise', 'orange',  'green', 'darkkhaki', 'red'], alpha=0.5);\n",
    "plt.yticks(fontsize = '14');\n",
    "plt.xticks(fontsize = '14');\n",
    "plt.rcParams['axes.spines.left'] = False\n",
    "# plt.rcParams['axes.spines.right'] = False\n",
    "plt.rcParams['axes.spines.top'] = False\n",
    "# plt.rcParams['axes.spines.bottom'] = False\n",
    "# plt.spines['right'].set_visible(False)\n",
    "# plt.spines['bottom'].set_visible(False)\n",
    "# plt.spines['left'].set_visible(False)\n",
    "plt.title('Economic Industry Breakdown per Cluster', fontsize = '22')\n",
    "plt.xlabel('Percentage', fontsize = '18')\n",
    "plt.ylabel('Industries', fontsize = '18');\n",
    "plt.legend(title = 'Clusters');"
   ]
  },
  {
   "cell_type": "code",
   "execution_count": null,
   "id": "f97b602a-e9e0-4cee-98ce-78279f1c9b7c",
   "metadata": {},
   "outputs": [],
   "source": []
  }
 ],
 "metadata": {
  "kernelspec": {
   "display_name": "Python 3 (ipykernel)",
   "language": "python",
   "name": "python3"
  },
  "language_info": {
   "codemirror_mode": {
    "name": "ipython",
    "version": 3
   },
   "file_extension": ".py",
   "mimetype": "text/x-python",
   "name": "python",
   "nbconvert_exporter": "python",
   "pygments_lexer": "ipython3",
   "version": "3.9.7"
  }
 },
 "nbformat": 4,
 "nbformat_minor": 5
}
