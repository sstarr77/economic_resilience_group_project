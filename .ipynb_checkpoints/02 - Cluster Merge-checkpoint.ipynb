{
 "cells": [
  {
   "cell_type": "markdown",
   "id": "c0a60a9b-6fd2-4f03-8ba2-c04a7f69ecbf",
   "metadata": {},
   "source": [
    "# 02 - Cluster Merge\n",
    "The initial intent of this notebook is to combine previously formed dataframes to better inform our upcoming EDA steps. Additionally, within this notebook, we are loading and preparing a file to use for measuring our clusters in the EDA stage."
   ]
  },
  {
   "cell_type": "code",
   "execution_count": null,
   "id": "27d81817",
   "metadata": {},
   "outputs": [],
   "source": [
    "import numpy as np\n",
    "import pandas as pd\n",
    "import matplotlib.pyplot as plt\n",
    "import re\n",
    "import datetime as dt"
   ]
  },
  {
   "cell_type": "code",
   "execution_count": null,
   "id": "67ca9626-64ad-42ec-9cc5-d8f27175bd7d",
   "metadata": {},
   "outputs": [],
   "source": [
    "np.random.seed(42)"
   ]
  },
  {
   "cell_type": "code",
   "execution_count": null,
   "id": "95fdafd1-5aff-43e2-bec4-8024f97aa918",
   "metadata": {},
   "outputs": [],
   "source": [
    "clusters = pd.read_csv('./source_data/2018_with_clusters.csv')\n",
    "clusters = clusters.set_index('State')\n",
    "clusters.head()"
   ]
  },
  {
   "cell_type": "markdown",
   "id": "e80ddc82-e8ac-47c8-bc23-6ff195848e06",
   "metadata": {},
   "source": [
    "#### Function to return clusters from dataframe\n",
    "Associating the states with the cluster according to the KMeans outputs"
   ]
  },
  {
   "cell_type": "code",
   "execution_count": null,
   "id": "f7699406-8ea4-44af-ae71-51c2d449cf76",
   "metadata": {},
   "outputs": [],
   "source": [
    "def get_clusters(df, column_list):\n",
    "    \n",
    "    all_clusters = {}\n",
    "    \n",
    "    for column in column_list:\n",
    "        \n",
    "        n_cluster = int(re.findall('\\d+', column)[0])\n",
    "        \n",
    "        state_clusters = {}\n",
    "\n",
    "        for cluster in df[column].unique():\n",
    "            state_clusters[cluster] = list(df[df[column] == cluster].index)\n",
    "    \n",
    "        all_clusters[n_cluster] = state_clusters\n",
    "    \n",
    "    return all_clusters\n",
    "\n",
    "cluster_labels = get_clusters(clusters, ['clusters-3', 'clusters-4', 'clusters-5'])\n",
    "cluster_labels[4][1]"
   ]
  },
  {
   "cell_type": "markdown",
   "id": "bdaa5254-28fa-421c-ad59-3f98d4a0ddcf",
   "metadata": {},
   "source": [
    "#### Function to append state column to Unemployment data\n",
    "Grouped by Clusters"
   ]
  },
  {
   "cell_type": "code",
   "execution_count": null,
   "id": "baa8c3f8",
   "metadata": {},
   "outputs": [],
   "source": [
    "for rank in cluster_labels.keys():\n",
    "    \n",
    "    for cluster in cluster_labels[rank].keys():\n",
    "        \n",
    "        cluster_df = pd.DataFrame()\n",
    "\n",
    "        for state in cluster_labels[rank][cluster]:\n",
    "            state_df = pd.read_csv(f'./state_employment/{state}_employment.csv')\n",
    "            state_df['date'] = pd.to_datetime(state_df['Year'].astype(str) + '-' + state_df['Period'])\n",
    "            state_df.set_index('date', inplace=True)\n",
    "            state_df['State'] = state\n",
    "\n",
    "            cluster_df = cluster_df.append(state_df)\n",
    "\n",
    "        file_path = './state_employment/'\n",
    "        csv_name = f'KMeans-{rank}_Cluster-{cluster}_employment.csv'\n",
    "        cluster_df.to_csv(f'{file_path}{csv_name}', index_label='date')"
   ]
  },
  {
   "cell_type": "markdown",
   "id": "0d800fa9-c300-49fd-a123-fc7f890e74ce",
   "metadata": {},
   "source": [
    "##### Read in Unemployment data with State column"
   ]
  },
  {
   "cell_type": "code",
   "execution_count": null,
   "id": "04ac6a75",
   "metadata": {},
   "outputs": [],
   "source": [
    "pd.read_csv('./state_employment/KMeans-5_Cluster-0_employment.csv', index_col='date')"
   ]
  },
  {
   "cell_type": "markdown",
   "id": "a66a73b0-ef2f-4403-9329-b46baccb27e4",
   "metadata": {},
   "source": [
    "#### Read in Quarterly Personal Income data\n",
    "The following cells will transform the raw data into the usable format for modeling and EDA.\n",
    "Please note, re-running cells in this section may result in errors."
   ]
  },
  {
   "cell_type": "code",
   "execution_count": null,
   "id": "ba8797ed-018d-41b0-aa58-20d5a09c25fe",
   "metadata": {},
   "outputs": [],
   "source": [
    "# Read in file, and drop unneccessary columns\n",
    "personal_income = pd.read_csv('./state_metrics/quarterly_personal_income_raw.csv')\n",
    "personal_income.drop(columns=['GeoFips', 'LineCode', 'Description'], inplace=True)\n",
    "personal_income.head()"
   ]
  },
  {
   "cell_type": "code",
   "execution_count": null,
   "id": "1a0070f5",
   "metadata": {},
   "outputs": [],
   "source": [
    "# Drop null values\n",
    "personal_income.dropna(inplace=True)"
   ]
  },
  {
   "cell_type": "code",
   "execution_count": null,
   "id": "d583d46e",
   "metadata": {},
   "outputs": [],
   "source": [
    "# Removing asterisk from Hawaii and Alaska (Noting that data prior to 1950 are not available)\n",
    "personal_income['GeoName'] = personal_income['GeoName'].apply(lambda s: re.findall('\\w+\\s*\\w+\\s*\\w+', s)[0])"
   ]
  },
  {
   "cell_type": "code",
   "execution_count": null,
   "id": "544cd631",
   "metadata": {},
   "outputs": [],
   "source": [
    "# Set index on df\n",
    "personal_income.set_index('GeoName', inplace=True)"
   ]
  },
  {
   "cell_type": "markdown",
   "id": "841ada98-0ac6-4e30-84d0-a2d37361e760",
   "metadata": {},
   "source": [
    "##### The following cells transform the data columns into the index by quarters "
   ]
  },
  {
   "cell_type": "code",
   "execution_count": null,
   "id": "927b167c",
   "metadata": {},
   "outputs": [],
   "source": [
    "quarters = pd.Series(personal_income.columns)"
   ]
  },
  {
   "cell_type": "code",
   "execution_count": null,
   "id": "8478aebb",
   "metadata": {},
   "outputs": [],
   "source": [
    "quarters = quarters.apply(lambda s: re.sub(':','-', s))"
   ]
  },
  {
   "cell_type": "code",
   "execution_count": null,
   "id": "2b392423",
   "metadata": {},
   "outputs": [],
   "source": [
    "quarters = pd.to_datetime(quarters)"
   ]
  },
  {
   "cell_type": "code",
   "execution_count": null,
   "id": "82d5af06",
   "metadata": {},
   "outputs": [],
   "source": [
    "# Transpose to add datetime column\n",
    "personal_income = personal_income.T"
   ]
  },
  {
   "cell_type": "code",
   "execution_count": null,
   "id": "cee1ae88",
   "metadata": {},
   "outputs": [],
   "source": [
    "personal_income['Quarter'] = quarters.values"
   ]
  },
  {
   "cell_type": "code",
   "execution_count": null,
   "id": "63b75aae",
   "metadata": {},
   "outputs": [],
   "source": [
    "personal_income = personal_income.set_index('Quarter')"
   ]
  },
  {
   "cell_type": "code",
   "execution_count": null,
   "id": "122e4afa",
   "metadata": {},
   "outputs": [],
   "source": [
    "personal_income.to_csv(f'./state_metrics/Quarterly_Personal_Income.csv', index_label='Quarter')"
   ]
  },
  {
   "cell_type": "code",
   "execution_count": null,
   "id": "11940628",
   "metadata": {
    "tags": []
   },
   "outputs": [],
   "source": [
    "# See Quarter Index\n",
    "pd.read_csv('./state_metrics/quarterly_personal_income.csv', index_col='Quarter')"
   ]
  }
 ],
 "metadata": {
  "kernelspec": {
   "display_name": "Python 3 (ipykernel)",
   "language": "python",
   "name": "python3"
  },
  "language_info": {
   "codemirror_mode": {
    "name": "ipython",
    "version": 3
   },
   "file_extension": ".py",
   "mimetype": "text/x-python",
   "name": "python",
   "nbconvert_exporter": "python",
   "pygments_lexer": "ipython3",
   "version": "3.9.7"
  }
 },
 "nbformat": 4,
 "nbformat_minor": 5
}
